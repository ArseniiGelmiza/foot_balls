{
 "cells": [
  {
   "cell_type": "markdown",
   "id": "14cd2e61",
   "metadata": {},
   "source": [
    "## проверка гипотез"
   ]
  },
  {
   "cell_type": "code",
   "execution_count": 112,
   "id": "9e9ab55e",
   "metadata": {},
   "outputs": [],
   "source": [
    "import pandas as pd \n",
    "import numpy as np\n",
    "import scipy.stats as sts\n",
    "\n",
    "import matplotlib.pyplot as plt\n",
    "import seaborn as sns\n",
    "\n",
    "from collections import defaultdict\n"
   ]
  },
  {
   "cell_type": "code",
   "execution_count": 113,
   "id": "c77cef87",
   "metadata": {},
   "outputs": [
    {
     "data": {
      "text/html": [
       "<div>\n",
       "<style scoped>\n",
       "    .dataframe tbody tr th:only-of-type {\n",
       "        vertical-align: middle;\n",
       "    }\n",
       "\n",
       "    .dataframe tbody tr th {\n",
       "        vertical-align: top;\n",
       "    }\n",
       "\n",
       "    .dataframe thead th {\n",
       "        text-align: right;\n",
       "    }\n",
       "</style>\n",
       "<table border=\"1\" class=\"dataframe\">\n",
       "  <thead>\n",
       "    <tr style=\"text-align: right;\">\n",
       "      <th></th>\n",
       "      <th>Unnamed: 0</th>\n",
       "      <th>Владение1</th>\n",
       "      <th>Владение2</th>\n",
       "      <th>Удары по воротам1</th>\n",
       "      <th>Удары по воротам2</th>\n",
       "      <th>Удары в створ1</th>\n",
       "      <th>Удары в створ2</th>\n",
       "      <th>Удары мимо1</th>\n",
       "      <th>Удары мимо2</th>\n",
       "      <th>Фолы1</th>\n",
       "      <th>...</th>\n",
       "      <th>Угловые удары2</th>\n",
       "      <th>Штрафные удары1</th>\n",
       "      <th>Штрафные удары2</th>\n",
       "      <th>Вне игры1</th>\n",
       "      <th>Вне игры2</th>\n",
       "      <th>Команда1</th>\n",
       "      <th>Команда2</th>\n",
       "      <th>Голы1</th>\n",
       "      <th>Голы2</th>\n",
       "      <th>Результат</th>\n",
       "    </tr>\n",
       "  </thead>\n",
       "  <tbody>\n",
       "    <tr>\n",
       "      <th>0</th>\n",
       "      <td>0</td>\n",
       "      <td>36</td>\n",
       "      <td>64</td>\n",
       "      <td>8</td>\n",
       "      <td>18</td>\n",
       "      <td>3</td>\n",
       "      <td>4</td>\n",
       "      <td>5</td>\n",
       "      <td>14</td>\n",
       "      <td>12</td>\n",
       "      <td>...</td>\n",
       "      <td>5</td>\n",
       "      <td>7</td>\n",
       "      <td>12</td>\n",
       "      <td>1</td>\n",
       "      <td>1</td>\n",
       "      <td>Брентфорд</td>\n",
       "      <td>Арсенал</td>\n",
       "      <td>2</td>\n",
       "      <td>0</td>\n",
       "      <td>1</td>\n",
       "    </tr>\n",
       "    <tr>\n",
       "      <th>1</th>\n",
       "      <td>1</td>\n",
       "      <td>49</td>\n",
       "      <td>51</td>\n",
       "      <td>13</td>\n",
       "      <td>9</td>\n",
       "      <td>8</td>\n",
       "      <td>3</td>\n",
       "      <td>5</td>\n",
       "      <td>6</td>\n",
       "      <td>11</td>\n",
       "      <td>...</td>\n",
       "      <td>4</td>\n",
       "      <td>9</td>\n",
       "      <td>10</td>\n",
       "      <td>2</td>\n",
       "      <td>3</td>\n",
       "      <td>Манчестер Юнайтед</td>\n",
       "      <td>Лидс</td>\n",
       "      <td>5</td>\n",
       "      <td>1</td>\n",
       "      <td>1</td>\n",
       "    </tr>\n",
       "    <tr>\n",
       "      <th>2</th>\n",
       "      <td>2</td>\n",
       "      <td>36</td>\n",
       "      <td>64</td>\n",
       "      <td>11</td>\n",
       "      <td>12</td>\n",
       "      <td>3</td>\n",
       "      <td>8</td>\n",
       "      <td>8</td>\n",
       "      <td>4</td>\n",
       "      <td>10</td>\n",
       "      <td>...</td>\n",
       "      <td>6</td>\n",
       "      <td>7</td>\n",
       "      <td>10</td>\n",
       "      <td>1</td>\n",
       "      <td>0</td>\n",
       "      <td>Бернли</td>\n",
       "      <td>Брайтон</td>\n",
       "      <td>1</td>\n",
       "      <td>2</td>\n",
       "      <td>2</td>\n",
       "    </tr>\n",
       "    <tr>\n",
       "      <th>3</th>\n",
       "      <td>3</td>\n",
       "      <td>61</td>\n",
       "      <td>39</td>\n",
       "      <td>11</td>\n",
       "      <td>3</td>\n",
       "      <td>6</td>\n",
       "      <td>1</td>\n",
       "      <td>5</td>\n",
       "      <td>2</td>\n",
       "      <td>15</td>\n",
       "      <td>...</td>\n",
       "      <td>2</td>\n",
       "      <td>11</td>\n",
       "      <td>14</td>\n",
       "      <td>0</td>\n",
       "      <td>1</td>\n",
       "      <td>Челси</td>\n",
       "      <td>Кристал Пэлас</td>\n",
       "      <td>3</td>\n",
       "      <td>0</td>\n",
       "      <td>1</td>\n",
       "    </tr>\n",
       "    <tr>\n",
       "      <th>4</th>\n",
       "      <td>4</td>\n",
       "      <td>38</td>\n",
       "      <td>62</td>\n",
       "      <td>11</td>\n",
       "      <td>8</td>\n",
       "      <td>7</td>\n",
       "      <td>2</td>\n",
       "      <td>4</td>\n",
       "      <td>6</td>\n",
       "      <td>18</td>\n",
       "      <td>...</td>\n",
       "      <td>4</td>\n",
       "      <td>13</td>\n",
       "      <td>18</td>\n",
       "      <td>0</td>\n",
       "      <td>2</td>\n",
       "      <td>Уотфорд</td>\n",
       "      <td>Астон Вилла</td>\n",
       "      <td>3</td>\n",
       "      <td>2</td>\n",
       "      <td>1</td>\n",
       "    </tr>\n",
       "    <tr>\n",
       "      <th>...</th>\n",
       "      <td>...</td>\n",
       "      <td>...</td>\n",
       "      <td>...</td>\n",
       "      <td>...</td>\n",
       "      <td>...</td>\n",
       "      <td>...</td>\n",
       "      <td>...</td>\n",
       "      <td>...</td>\n",
       "      <td>...</td>\n",
       "      <td>...</td>\n",
       "      <td>...</td>\n",
       "      <td>...</td>\n",
       "      <td>...</td>\n",
       "      <td>...</td>\n",
       "      <td>...</td>\n",
       "      <td>...</td>\n",
       "      <td>...</td>\n",
       "      <td>...</td>\n",
       "      <td>...</td>\n",
       "      <td>...</td>\n",
       "      <td>...</td>\n",
       "    </tr>\n",
       "    <tr>\n",
       "      <th>1043</th>\n",
       "      <td>1043</td>\n",
       "      <td>47</td>\n",
       "      <td>53</td>\n",
       "      <td>8</td>\n",
       "      <td>6</td>\n",
       "      <td>6</td>\n",
       "      <td>4</td>\n",
       "      <td>2</td>\n",
       "      <td>2</td>\n",
       "      <td>9</td>\n",
       "      <td>...</td>\n",
       "      <td>7</td>\n",
       "      <td>7</td>\n",
       "      <td>8</td>\n",
       "      <td>3</td>\n",
       "      <td>1</td>\n",
       "      <td>Лестер</td>\n",
       "      <td>Тоттенхэм</td>\n",
       "      <td>2</td>\n",
       "      <td>4</td>\n",
       "      <td>2</td>\n",
       "    </tr>\n",
       "    <tr>\n",
       "      <th>1044</th>\n",
       "      <td>1044</td>\n",
       "      <td>67</td>\n",
       "      <td>33</td>\n",
       "      <td>17</td>\n",
       "      <td>5</td>\n",
       "      <td>11</td>\n",
       "      <td>3</td>\n",
       "      <td>6</td>\n",
       "      <td>2</td>\n",
       "      <td>8</td>\n",
       "      <td>...</td>\n",
       "      <td>5</td>\n",
       "      <td>10</td>\n",
       "      <td>8</td>\n",
       "      <td>1</td>\n",
       "      <td>1</td>\n",
       "      <td>Манчестер Сити</td>\n",
       "      <td>Эвертон</td>\n",
       "      <td>5</td>\n",
       "      <td>0</td>\n",
       "      <td>1</td>\n",
       "    </tr>\n",
       "    <tr>\n",
       "      <th>1045</th>\n",
       "      <td>1045</td>\n",
       "      <td>43</td>\n",
       "      <td>57</td>\n",
       "      <td>10</td>\n",
       "      <td>6</td>\n",
       "      <td>3</td>\n",
       "      <td>3</td>\n",
       "      <td>7</td>\n",
       "      <td>3</td>\n",
       "      <td>11</td>\n",
       "      <td>...</td>\n",
       "      <td>9</td>\n",
       "      <td>1</td>\n",
       "      <td>11</td>\n",
       "      <td>2</td>\n",
       "      <td>1</td>\n",
       "      <td>Шеффилд Юнайтед</td>\n",
       "      <td>Бернли</td>\n",
       "      <td>1</td>\n",
       "      <td>0</td>\n",
       "      <td>1</td>\n",
       "    </tr>\n",
       "    <tr>\n",
       "      <th>1046</th>\n",
       "      <td>1046</td>\n",
       "      <td>37</td>\n",
       "      <td>63</td>\n",
       "      <td>13</td>\n",
       "      <td>13</td>\n",
       "      <td>7</td>\n",
       "      <td>5</td>\n",
       "      <td>6</td>\n",
       "      <td>8</td>\n",
       "      <td>5</td>\n",
       "      <td>...</td>\n",
       "      <td>3</td>\n",
       "      <td>9</td>\n",
       "      <td>5</td>\n",
       "      <td>5</td>\n",
       "      <td>2</td>\n",
       "      <td>Вест Хэм</td>\n",
       "      <td>Саутгемптон</td>\n",
       "      <td>3</td>\n",
       "      <td>0</td>\n",
       "      <td>1</td>\n",
       "    </tr>\n",
       "    <tr>\n",
       "      <th>1047</th>\n",
       "      <td>1047</td>\n",
       "      <td>57</td>\n",
       "      <td>43</td>\n",
       "      <td>10</td>\n",
       "      <td>9</td>\n",
       "      <td>4</td>\n",
       "      <td>4</td>\n",
       "      <td>6</td>\n",
       "      <td>5</td>\n",
       "      <td>14</td>\n",
       "      <td>...</td>\n",
       "      <td>2</td>\n",
       "      <td>3</td>\n",
       "      <td>14</td>\n",
       "      <td>1</td>\n",
       "      <td>1</td>\n",
       "      <td>Вулверхэмптон</td>\n",
       "      <td>Манчестер Юнайтед</td>\n",
       "      <td>1</td>\n",
       "      <td>2</td>\n",
       "      <td>2</td>\n",
       "    </tr>\n",
       "  </tbody>\n",
       "</table>\n",
       "<p>1048 rows × 22 columns</p>\n",
       "</div>"
      ],
      "text/plain": [
       "      Unnamed: 0  Владение1  Владение2  Удары по воротам1  Удары по воротам2  \\\n",
       "0              0         36         64                  8                 18   \n",
       "1              1         49         51                 13                  9   \n",
       "2              2         36         64                 11                 12   \n",
       "3              3         61         39                 11                  3   \n",
       "4              4         38         62                 11                  8   \n",
       "...          ...        ...        ...                ...                ...   \n",
       "1043        1043         47         53                  8                  6   \n",
       "1044        1044         67         33                 17                  5   \n",
       "1045        1045         43         57                 10                  6   \n",
       "1046        1046         37         63                 13                 13   \n",
       "1047        1047         57         43                 10                  9   \n",
       "\n",
       "      Удары в створ1  Удары в створ2  Удары мимо1  Удары мимо2  Фолы1  ...  \\\n",
       "0                  3               4            5           14     12  ...   \n",
       "1                  8               3            5            6     11  ...   \n",
       "2                  3               8            8            4     10  ...   \n",
       "3                  6               1            5            2     15  ...   \n",
       "4                  7               2            4            6     18  ...   \n",
       "...              ...             ...          ...          ...    ...  ...   \n",
       "1043               6               4            2            2      9  ...   \n",
       "1044              11               3            6            2      8  ...   \n",
       "1045               3               3            7            3     11  ...   \n",
       "1046               7               5            6            8      5  ...   \n",
       "1047               4               4            6            5     14  ...   \n",
       "\n",
       "      Угловые удары2  Штрафные удары1  Штрафные удары2  Вне игры1  Вне игры2  \\\n",
       "0                  5                7               12          1          1   \n",
       "1                  4                9               10          2          3   \n",
       "2                  6                7               10          1          0   \n",
       "3                  2               11               14          0          1   \n",
       "4                  4               13               18          0          2   \n",
       "...              ...              ...              ...        ...        ...   \n",
       "1043               7                7                8          3          1   \n",
       "1044               5               10                8          1          1   \n",
       "1045               9                1               11          2          1   \n",
       "1046               3                9                5          5          2   \n",
       "1047               2                3               14          1          1   \n",
       "\n",
       "                Команда1            Команда2 Голы1 Голы2  Результат  \n",
       "0             Брентфорд              Арсенал     2     0          1  \n",
       "1     Манчестер Юнайтед                 Лидс     5     1          1  \n",
       "2                Бернли              Брайтон     1     2          2  \n",
       "3                 Челси        Кристал Пэлас     3     0          1  \n",
       "4               Уотфорд          Астон Вилла     3     2          1  \n",
       "...                  ...                 ...   ...   ...        ...  \n",
       "1043             Лестер            Тоттенхэм     2     4          2  \n",
       "1044     Манчестер Сити              Эвертон     5     0          1  \n",
       "1045    Шеффилд Юнайтед               Бернли     1     0          1  \n",
       "1046           Вест Хэм          Саутгемптон     3     0          1  \n",
       "1047      Вулверхэмптон    Манчестер Юнайтед     1     2          2  \n",
       "\n",
       "[1048 rows x 22 columns]"
      ]
     },
     "metadata": {},
     "output_type": "display_data"
    }
   ],
   "source": [
    "df = pd.read_csv(\"feet_balls.csv\", sep=',')\n",
    "display(df)"
   ]
  },
  {
   "cell_type": "markdown",
   "id": "ec26e611",
   "metadata": {},
   "source": [
    "#### 1-ая гипотеза:\n",
    "\n",
    "##### H1: Матожидание числа забитых голов на домашнем стадионе статистически значимо превышает математическое ожидание забитых голов на выездном матче"
   ]
  },
  {
   "cell_type": "markdown",
   "id": "36797f27",
   "metadata": {},
   "source": [
    "###### В каждом матче для команды 1 матч - домашний, для команды 2 - выездной. \n",
    "\n",
    "Гипотеза:\n"
   ]
  },
  {
   "cell_type": "markdown",
   "id": "e7389612",
   "metadata": {},
   "source": [
    "\n",
    "$$\n",
    "\\begin{aligned}\n",
    "& H_0: \\mu_{home} = \\mu_{guest} \\\\\n",
    "& H_1: \\mu_{home} > \\mu_{guest}\n",
    "\\end{aligned}\n",
    "$$\n",
    "Уровень значимости: 5%"
   ]
  },
  {
   "cell_type": "markdown",
   "id": "6bf632a6",
   "metadata": {},
   "source": [
    "Сравним средние значения голов команд, для которых матч был домашним и для которых матч был выездным. "
   ]
  },
  {
   "cell_type": "code",
   "execution_count": 142,
   "id": "fa386fb6",
   "metadata": {},
   "outputs": [
    {
     "name": "stdout",
     "output_type": "stream",
     "text": [
      "1.4532442748091603\n",
      "1.2938931297709924\n"
     ]
    }
   ],
   "source": [
    "mean_home = df[\"Голы1\"].mean()\n",
    "print(mean_home)\n",
    "mean_guest = df[\"Голы2\"].mean()\n",
    "print(mean_guest)"
   ]
  },
  {
   "cell_type": "code",
   "execution_count": 143,
   "id": "b2a9ded4",
   "metadata": {},
   "outputs": [
    {
     "data": {
      "text/plain": [
       "Text(0, 0.5, 'frequency')"
      ]
     },
     "execution_count": 143,
     "metadata": {},
     "output_type": "execute_result"
    },
    {
     "data": {
      "image/png": "[encoded data removed]",
      "text/plain": [
       "<Figure size 432x432 with 1 Axes>"
      ]
     },
     "metadata": {
      "needs_background": "light"
     },
     "output_type": "display_data"
    }
   ],
   "source": [
    "h1 = df[\"Голы1\"].hist(figsize = (6,6))\n",
    "\n",
    "h1.set_title(\"Распределение голов на для команд, играющих на домашнем стадионе\")\n",
    "h1.set_xlabel(\"Голы\")\n",
    "h1.set_ylabel(\"frequency\")"
   ]
  },
  {
   "cell_type": "code",
   "execution_count": 116,
   "id": "66cfec18",
   "metadata": {},
   "outputs": [
    {
     "data": {
      "text/plain": [
       "Text(0, 0.5, 'frequency')"
      ]
     },
     "execution_count": 116,
     "metadata": {},
     "output_type": "execute_result"
    },
    {
     "data": {
      "image/png": "[encoded data removed]",
      "text/plain": [
       "<Figure size 432x432 with 1 Axes>"
      ]
     },
     "metadata": {
      "needs_background": "light"
     },
     "output_type": "display_data"
    }
   ],
   "source": [
    "h2 = df[\"Голы2\"].hist(figsize = (6,6))\n",
    "\n",
    "h2.set_title(\"Распределение голов на для команд, играющих на выезде\")\n",
    "h2.set_xlabel(\"Голы\")\n",
    "h2.set_ylabel(\"frequency\")"
   ]
  },
  {
   "cell_type": "markdown",
   "id": "9d85aac8",
   "metadata": {},
   "source": [
    "Вывод: каждое из распределений похоже на нормальное"
   ]
  },
  {
   "cell_type": "markdown",
   "id": "a7a639d9",
   "metadata": {},
   "source": [
    "Проверим равенство дисперсий:"
   ]
  },
  {
   "cell_type": "code",
   "execution_count": 118,
   "id": "9322bd43",
   "metadata": {},
   "outputs": [
    {
     "name": "stdout",
     "output_type": "stream",
     "text": [
      "1.663523371027367\n",
      "1.5486923744322207\n"
     ]
    }
   ],
   "source": [
    "print(df[\"Голы1\"].var())\n",
    "print(df[\"Голы2\"].var())"
   ]
  },
  {
   "cell_type": "markdown",
   "id": "bbaef0ce",
   "metadata": {},
   "source": [
    "Вывод: математические ожидания практически равные. \n",
    "\n",
    "Таким образом, можем использовать t тест для независимых выборок. "
   ]
  },
  {
   "cell_type": "code",
   "execution_count": 119,
   "id": "c89b06d5",
   "metadata": {},
   "outputs": [
    {
     "name": "stdout",
     "output_type": "stream",
     "text": [
      "Ttest_indResult(statistic=2.8782828934139233, pvalue=0.0040390086969148715)\n",
      "H0 отвергается. Математические ожидания голов неравны.\n"
     ]
    }
   ],
   "source": [
    "from scipy.stats import ttest_ind\n",
    "\n",
    "print(ttest_ind(df[\"Голы1\"], df[\"Голы2\"]))\n",
    "\n",
    "pvalue1 = ttest_ind(df[\"Голы1\"], df[\"Голы2\"]) [1]\n",
    "\n",
    "if pvalue1 < 0.05:\n",
    "    print(\"H0 отвергается. Математические ожидания голов неравны.\")\n",
    "else:\n",
    "    print(\"Нет оснований отвергать H0. Математические ожидания голов равны.\")"
   ]
  },
  {
   "cell_type": "markdown",
   "id": "6d2d4e65",
   "metadata": {},
   "source": [
    "Таким образом, гипотеза о статистическом превышении математического ожидания голов команд, для которых матч является домашним над математическим ожиданием голов команд, для которых матч является выездным подтверждается. "
   ]
  },
  {
   "cell_type": "markdown",
   "id": "5b1ba658",
   "metadata": {},
   "source": [
    "#### 2-ая гипотеза : \n",
    "\n",
    "##### H1: Количество ударов по воротам имеет большую корреляцию с количеством голов, нежели количество фолов, отрицательно коррелирующих с той же величиной"
   ]
  },
  {
   "cell_type": "markdown",
   "id": "6f1c7c19",
   "metadata": {},
   "source": [
    "Объединим данные по голам1 и голам2, ударам по воротам1 и ударам по воротам2, фолам1 и фолам2. "
   ]
  },
  {
   "cell_type": "code",
   "execution_count": 120,
   "id": "2ced9d47",
   "metadata": {},
   "outputs": [],
   "source": [
    "shots = df[\"Удары по воротам1\"]+ df[\"Удары по воротам2\"]\n",
    "goals = df['Голы1'] + df['Голы2']\n",
    "fouls = df['Фолы1'] + df['Фолы2']"
   ]
  },
  {
   "cell_type": "markdown",
   "id": "94c5b09c",
   "metadata": {},
   "source": [
    "Гипотеза: \n",
    "\n",
    "$$\n",
    "\\begin{aligned}\n",
    "& H_0: | corr_{goals;shots} |  <= | corr_{goals;fouls} |\\\\\n",
    "& H_1: | corr_{goals;shots} | > | corr_{goals;fouls} |\n",
    "\\end{aligned}\n",
    "$$\n",
    "Уровень значимости: 5%"
   ]
  },
  {
   "cell_type": "code",
   "execution_count": 121,
   "id": "95cc7e0b",
   "metadata": {},
   "outputs": [
    {
     "data": {
      "text/plain": [
       "Text(0, 0.5, 'frequency')"
      ]
     },
     "execution_count": 121,
     "metadata": {},
     "output_type": "execute_result"
    },
    {
     "data": {
      "image/png": "[encoded data removed]",
      "text/plain": [
       "<Figure size 432x432 with 1 Axes>"
      ]
     },
     "metadata": {
      "needs_background": "light"
     },
     "output_type": "display_data"
    }
   ],
   "source": [
    "h3 = goals.hist(figsize = (6,6))\n",
    "\n",
    "h3.set_title(\"Распределение количества голов для всех команд\")\n",
    "h3.set_xlabel(\"Угловые \")\n",
    "h3.set_ylabel(\"frequency\")"
   ]
  },
  {
   "cell_type": "code",
   "execution_count": 122,
   "id": "3fd90da0",
   "metadata": {},
   "outputs": [
    {
     "data": {
      "text/plain": [
       "Text(0, 0.5, 'frequency')"
      ]
     },
     "execution_count": 122,
     "metadata": {},
     "output_type": "execute_result"
    },
    {
     "data": {
      "image/png": "[encoded data removed]",
      "text/plain": [
       "<Figure size 432x432 with 1 Axes>"
      ]
     },
     "metadata": {
      "needs_background": "light"
     },
     "output_type": "display_data"
    }
   ],
   "source": [
    "h4 = shots.hist(figsize = (6,6))\n",
    "\n",
    "h4.set_title(\"Распределение количества ударов по воротом для всех команд\")\n",
    "h4.set_xlabel(\"Удары по воротам \")\n",
    "h4.set_ylabel(\"frequency\")"
   ]
  },
  {
   "cell_type": "code",
   "execution_count": 123,
   "id": "161bd8b6",
   "metadata": {},
   "outputs": [
    {
     "data": {
      "text/plain": [
       "Text(0, 0.5, 'frequency')"
      ]
     },
     "execution_count": 123,
     "metadata": {},
     "output_type": "execute_result"
    },
    {
     "data": {
      "image/png": "[encoded data removed]",
      "text/plain": [
       "<Figure size 432x432 with 1 Axes>"
      ]
     },
     "metadata": {
      "needs_background": "light"
     },
     "output_type": "display_data"
    }
   ],
   "source": [
    "h5 = fouls.hist(figsize = (6,6))\n",
    "\n",
    "h5.set_title(\"Распределение количества фолов для всех команд\")\n",
    "h5.set_xlabel(\"Фолы \")\n",
    "h5.set_ylabel(\"frequency\")"
   ]
  },
  {
   "cell_type": "markdown",
   "id": "6db8a18a",
   "metadata": {},
   "source": [
    "Вывод: каждое из распределений похоже на нормальное\n",
    "    \n",
    "Значит модем применить тест корреляции Пирсона как и для вычисления корреляции между голами и ударами по воротом, так и для вычисления корреляции между голами и фолами. "
   ]
  },
  {
   "cell_type": "code",
   "execution_count": 124,
   "id": "c6e95ef2",
   "metadata": {},
   "outputs": [],
   "source": [
    "from scipy.stats.stats import pearsonr\n",
    "\n",
    "\n",
    "corr_goals_shots, pvalue_goals_shots = sts.pearsonr(goals, shots)\n",
    "corr_goals_fouls, pvalue_goals_fouls = sts.pearsonr(goals, fouls)\n",
    "#print(corr_goals_shots)\n",
    "#print(corr_goals_fouls)\n"
   ]
  },
  {
   "cell_type": "markdown",
   "id": "09c3c855",
   "metadata": {},
   "source": [
    "Построим доверительные интервалы для каждой из корреляций, для того чтобы сделать вывод о подтверждении гипотезы (интервалы не пересекаются) или об отверждержении гипотезы (интервалы пересекаются):"
   ]
  },
  {
   "cell_type": "code",
   "execution_count": 125,
   "id": "17cfee79",
   "metadata": {},
   "outputs": [
    {
     "name": "stdout",
     "output_type": "stream",
     "text": [
      "95% Доверительный интервал для корреляции между голами и ударами по воротам: (0.27477248049780073, 0.38287137260293935)\n",
      "95% Доверительный интервал для корреляции между голами и фолами: (-0.11970056949215928, 0.0011239040741464032)\n"
     ]
    }
   ],
   "source": [
    "alpha = 0.05\n",
    "\n",
    "n = len(goals)\n",
    "\n",
    "se_goals_shots = 1 / np.sqrt(n - 3)\n",
    "\n",
    "se_goals_fouls = 1 / np.sqrt(n - 3)\n",
    "\n",
    "t_crit = sts.t.ppf(1 - alpha/2, n - 2)\n",
    "\n",
    "CI_goals_shots = (np.tanh(np.arctanh(corr_goals_shots) - t_critical * se_goals_shots),\n",
    "                  np.tanh(np.arctanh(corr_goals_shots) + t_critical * se_goals_shots))\n",
    "\n",
    "CI_goals_fouls = (np.tanh(np.arctanh(corr_goals_fouls) - t_critical * se_goals_fouls),\n",
    "                  np.tanh(np.arctanh(corr_goals_fouls) + t_critical * se_goals_fouls))\n",
    "\n",
    "print(\"95% Доверительный интервал для корреляции между голами и ударами по воротам:\", ci_goals_shots)\n",
    "print(\"95% Доверительный интервал для корреляции между голами и фолами:\", ci_goals_fouls)"
   ]
  },
  {
   "cell_type": "markdown",
   "id": "6848a5ca",
   "metadata": {},
   "source": [
    "Доверительные интервалы не пересекаются, значит H0 отвергается. "
   ]
  },
  {
   "cell_type": "markdown",
   "id": "b7245fed",
   "metadata": {},
   "source": [
    "Таким образом, количество ударов по воротам имеет статистически большую корреляцию с количеством голов, чем количество фолов (по модулю)"
   ]
  },
  {
   "cell_type": "markdown",
   "id": "b18a9547",
   "metadata": {},
   "source": [
    "#### 3-я гипотеза\n",
    "\n",
    "##### H1 : Чем больше владение мячом команды, матч для который является домашним, тем меньше количество угловых, исполняемых командой-противником, для которой матч является выездным"
   ]
  },
  {
   "cell_type": "markdown",
   "id": "53ea858c",
   "metadata": {},
   "source": [
    "Гипотеза: \n",
    "\n",
    "$$\n",
    "\\begin{aligned}\n",
    "& H_0:  corr_{possesion1; corner2}   >=  0 \\\\\n",
    "& H_1:  corr_{possesion1; corner2}  < 0 \n",
    "\\end{aligned}\n",
    "$$\n",
    "Уровень значимости: 5%"
   ]
  },
  {
   "cell_type": "code",
   "execution_count": 111,
   "id": "4623ae70",
   "metadata": {},
   "outputs": [
    {
     "data": {
      "text/plain": [
       "Text(0, 0.5, 'frequency')"
      ]
     },
     "execution_count": 111,
     "metadata": {},
     "output_type": "execute_result"
    },
    {
     "data": {
      "image/png": "[encoded data removed]",
      "text/plain": [
       "<Figure size 432x432 with 1 Axes>"
      ]
     },
     "metadata": {
      "needs_background": "light"
     },
     "output_type": "display_data"
    }
   ],
   "source": [
    "h6 = df[\"Владение1\"].hist(figsize = (6,6))\n",
    "\n",
    "h6.set_title(\"Распределение уровня владения для команд, играющих на домашнем стадионе\")\n",
    "h6.set_xlabel(\"Владение\")\n",
    "h6.set_ylabel(\"frequency\")"
   ]
  },
  {
   "cell_type": "code",
   "execution_count": 110,
   "id": "8c1027b6",
   "metadata": {},
   "outputs": [
    {
     "data": {
      "text/plain": [
       "Text(0, 0.5, 'frequency')"
      ]
     },
     "execution_count": 110,
     "metadata": {},
     "output_type": "execute_result"
    },
    {
     "data": {
      "image/png": "[encoded data removed]",
      "text/plain": [
       "<Figure size 432x432 with 1 Axes>"
      ]
     },
     "metadata": {
      "needs_background": "light"
     },
     "output_type": "display_data"
    }
   ],
   "source": [
    "h7 = df[\"Угловые удары2\"].hist(figsize = (6,6))\n",
    "\n",
    "h7.set_title(\"Распределение количества угловых для команд, матч для которых является выездным\")\n",
    "h7.set_xlabel(\"Угловые \")\n",
    "h7.set_ylabel(\"frequency\")"
   ]
  },
  {
   "cell_type": "markdown",
   "id": "73fd8c5a",
   "metadata": {},
   "source": [
    "Вывод: каждое из распределений похоже на нормальное\n",
    "\n",
    "Значит можем использовать тест корреляции Пирсона."
   ]
  },
  {
   "cell_type": "code",
   "execution_count": 102,
   "id": "e42f5b34",
   "metadata": {},
   "outputs": [
    {
     "name": "stdout",
     "output_type": "stream",
     "text": [
      "корреляция: -0.4606501997946045\n",
      "H0 отвергается\n"
     ]
    }
   ],
   "source": [
    "\n",
    "corr_posession1_corner2, pvalue_posession1_corner2 = sts.pearsonr(df[\"Владение1\"], df[\"Угловые удары2\"])\n",
    "#print (pvalue_posession1_corner2)\n",
    "print(\"корреляция:\", corr_posession1_corner2)\n",
    "\n",
    "if pvalue_posession1_corner2 < 0.05:\n",
    "    print(\"H0 отвергается\")\n",
    "else:\n",
    "    print(\"Нет оснований отвергать H0\")\n"
   ]
  },
  {
   "cell_type": "markdown",
   "id": "0c0a3725",
   "metadata": {},
   "source": [
    "Таким образом, существует отрицательная корреляция между владением команды1 и количеством угловых команды2. "
   ]
  },
  {
   "cell_type": "markdown",
   "id": "84e57acf",
   "metadata": {},
   "source": [
    "#### 4-я гипотеза\n",
    "\n",
    "##### H1 : Математическое ожидание ударов по воротам больше математического ожидания ударов мимо (для команд, играющих на домашнем стадионе)"
   ]
  },
  {
   "cell_type": "markdown",
   "id": "1e8be33c",
   "metadata": {},
   "source": [
    "Гипотеза:\n",
    "    \n",
    "$$\n",
    "\\begin{aligned}\n",
    "& H_0: \\mu_{shots} = \\mu_{missed} \\\\\n",
    "& H_1: \\mu_{shots} > \\mu_{missed}\n",
    "\\end{aligned}\n",
    "$$\n",
    "Уровень значимости: 5%"
   ]
  },
  {
   "cell_type": "markdown",
   "id": "dfefbcec",
   "metadata": {},
   "source": [
    "Сравним средние значения ударов по воротам и ударов мимо:"
   ]
  },
  {
   "cell_type": "code",
   "execution_count": 144,
   "id": "c808d9a8",
   "metadata": {},
   "outputs": [
    {
     "name": "stdout",
     "output_type": "stream",
     "text": [
      "9.759541984732824\n",
      "5.119274809160306\n"
     ]
    }
   ],
   "source": [
    "mean_shots = df[\"Удары по воротам1\"].mean()\n",
    "print(mean_shots)\n",
    "mean_missed = df[\"Удары мимо1\"].mean()\n",
    "print(mean_missed)"
   ]
  },
  {
   "cell_type": "code",
   "execution_count": 128,
   "id": "4a760774",
   "metadata": {},
   "outputs": [
    {
     "data": {
      "text/plain": [
       "Text(0, 0.5, 'frequency')"
      ]
     },
     "execution_count": 128,
     "metadata": {},
     "output_type": "execute_result"
    },
    {
     "data": {
      "image/png": "[encoded data removed]",
      "text/plain": [
       "<Figure size 432x432 with 1 Axes>"
      ]
     },
     "metadata": {
      "needs_background": "light"
     },
     "output_type": "display_data"
    }
   ],
   "source": [
    "h8 = df[\"Удары по воротам1\"].hist(figsize = (6,6))\n",
    "\n",
    "h8.set_title(\"Распределение ударов по воротам для команд, играющих на домашнем стадионе\")\n",
    "h8.set_xlabel(\"удары по воротам\")\n",
    "h8.set_ylabel(\"frequency\")"
   ]
  },
  {
   "cell_type": "code",
   "execution_count": 130,
   "id": "73f88ed8",
   "metadata": {},
   "outputs": [
    {
     "data": {
      "text/plain": [
       "Text(0, 0.5, 'frequency')"
      ]
     },
     "execution_count": 130,
     "metadata": {},
     "output_type": "execute_result"
    },
    {
     "data": {
      "image/png": "[encoded data removed]",
      "text/plain": [
       "<Figure size 432x432 with 1 Axes>"
      ]
     },
     "metadata": {
      "needs_background": "light"
     },
     "output_type": "display_data"
    }
   ],
   "source": [
    "h8 = df[\"Удары мимо1\"].hist(figsize = (6,6))\n",
    "\n",
    "h8.set_title(\"Распределение ударов мимо для команд, играющих на домашнем стадионе\")\n",
    "h8.set_xlabel(\"удары мимо\")\n",
    "h8.set_ylabel(\"frequency\")"
   ]
  },
  {
   "cell_type": "markdown",
   "id": "3bc1df6c",
   "metadata": {},
   "source": [
    "Вывод: каждое из распределений похоже на нормальное\n",
    "\n",
    "Можем использовать t тест для независимых выборок:"
   ]
  },
  {
   "cell_type": "code",
   "execution_count": 132,
   "id": "2ac91513",
   "metadata": {},
   "outputs": [
    {
     "name": "stdout",
     "output_type": "stream",
     "text": [
      "Ttest_indResult(statistic=31.15468345454849, pvalue=2.078318574182183e-175)\n",
      "H0 отвергается. Математические ожидания неравны.\n"
     ]
    }
   ],
   "source": [
    "\n",
    "print(ttest_ind(df[\"Удары по воротам1\"], df[\"Удары мимо1\"]))\n",
    "\n",
    "pvalue3 = ttest_ind(df[\"Удары по воротам1\"], df[\"Удары мимо1\"]) [1]\n",
    "\n",
    "if pvalue3 < 0.05:\n",
    "    print(\"H0 отвергается. Математические ожидания неравны.\")\n",
    "else:\n",
    "    print(\"Нет оснований отвергать H0. Математические ожидания равны.\")"
   ]
  },
  {
   "cell_type": "markdown",
   "id": "5426ab00",
   "metadata": {},
   "source": [
    "Таким образом, можно сделать вывод, что математическое ожидание ударов по воротам команд, для которых стадион является домашним, превышает математическое ожидание ударов мимо для тех же ко манд. "
   ]
  },
  {
   "cell_type": "markdown",
   "id": "3870bad1",
   "metadata": {},
   "source": [
    "#### 5-я гипотеза\n",
    "\n",
    "##### H1 : Математическое ожидание фолов среди команд, матч для которых является домашним, равно  математическому ожиданию штрафных среди команд, матч для которых происходит на выезде. "
   ]
  },
  {
   "cell_type": "markdown",
   "id": "5054e8b5",
   "metadata": {},
   "source": [
    "Гипотеза:\n",
    "    \n",
    "$$\n",
    "\\begin{aligned}\n",
    "& H_0: \\mu_{fouls; home} \\neq \\mu_{forfeit; guest} \\\\\n",
    "& H_1: \\mu_{fouls; home} = \\mu_{forfeit; guest}\n",
    "\\end{aligned}\n",
    "$$\n",
    "Уровень значимости: 5%"
   ]
  },
  {
   "cell_type": "code",
   "execution_count": null,
   "id": "5c864312",
   "metadata": {},
   "outputs": [],
   "source": [
    "Сравним средние значения Фолов1 и Штрафных ударов2:"
   ]
  },
  {
   "cell_type": "code",
   "execution_count": 136,
   "id": "512ae204",
   "metadata": {},
   "outputs": [
    {
     "name": "stdout",
     "output_type": "stream",
     "text": [
      "10.53530534351145\n",
      "10.10591603053435\n"
     ]
    }
   ],
   "source": [
    "mean_fouls_1 = df[\"Фолы1\"].mean()\n",
    "print(mean_fouls_1)\n",
    "mean_forfeit_2 = df[\"Штрафные удары2\"].mean()\n",
    "print(mean_forfeit_2)"
   ]
  },
  {
   "cell_type": "code",
   "execution_count": 137,
   "id": "ecf79926",
   "metadata": {},
   "outputs": [
    {
     "data": {
      "text/plain": [
       "Text(0, 0.5, 'frequency')"
      ]
     },
     "execution_count": 137,
     "metadata": {},
     "output_type": "execute_result"
    },
    {
     "data": {
      "image/png": "[encoded data removed]",
      "text/plain": [
       "<Figure size 432x432 with 1 Axes>"
      ]
     },
     "metadata": {
      "needs_background": "light"
     },
     "output_type": "display_data"
    }
   ],
   "source": [
    "h9 = df[\"Фолы1\"].hist(figsize = (6,6))\n",
    "\n",
    "h9.set_title(\"Распределение фолов по воротам для команд, играющих на домашнем стадионе\")\n",
    "h9.set_xlabel(\"фолы\")\n",
    "h9.set_ylabel(\"frequency\")"
   ]
  },
  {
   "cell_type": "code",
   "execution_count": 138,
   "id": "f4121ac1",
   "metadata": {},
   "outputs": [
    {
     "data": {
      "text/plain": [
       "Text(0, 0.5, 'frequency')"
      ]
     },
     "execution_count": 138,
     "metadata": {},
     "output_type": "execute_result"
    },
    {
     "data": {
      "image/png": "[encoded data removed]",
      "text/plain": [
       "<Figure size 432x432 with 1 Axes>"
      ]
     },
     "metadata": {
      "needs_background": "light"
     },
     "output_type": "display_data"
    }
   ],
   "source": [
    "h10 = df[\"Штрафные удары2\"].hist(figsize = (6,6))\n",
    "\n",
    "h10.set_title(\"Распределение штрафных ударов для команд, матч для которых осуществляется на выезде\")\n",
    "h10.set_xlabel(\"штрафные удары\")\n",
    "h10.set_ylabel(\"frequency\")"
   ]
  },
  {
   "cell_type": "markdown",
   "id": "7405eb14",
   "metadata": {},
   "source": [
    "Вывод: каждое из распределений похоже на нормальное\n",
    "    \n",
    "проверим равенство дисперсий:"
   ]
  },
  {
   "cell_type": "code",
   "execution_count": 140,
   "id": "7dfc7e45",
   "metadata": {},
   "outputs": [
    {
     "name": "stdout",
     "output_type": "stream",
     "text": [
      "12.413270011738396\n",
      "11.949611576514526\n"
     ]
    }
   ],
   "source": [
    "print(df[\"Фолы1\"].var())\n",
    "print(df[\"Штрафные удары2\"].var())"
   ]
  },
  {
   "cell_type": "markdown",
   "id": "a435b6cd",
   "metadata": {},
   "source": [
    "Вывод: дисперсии почти равны.\n",
    "    \n",
    "Поскольку каждая пара (предполагаемо возникающая всегда) фола одной команды и соответсвующего штрафного другой команды независима от других пар фолов-штрафных, выборки являются независимыми. Можем использовать двухвыборочный t тест для независимых выборок. "
   ]
  },
  {
   "cell_type": "code",
   "execution_count": 141,
   "id": "cffa8199",
   "metadata": {},
   "outputs": [
    {
     "name": "stdout",
     "output_type": "stream",
     "text": [
      "Ttest_indResult(statistic=2.816226269635587, pvalue=0.004904666349925567)\n",
      "H0 отвергается. Математические ожидания неравны.\n"
     ]
    }
   ],
   "source": [
    "print(ttest_ind(df[\"Фолы1\"], df[\"Штрафные удары2\"]))\n",
    "\n",
    "pvalue3 = ttest_ind(df[\"Фолы1\"], df[\"Штрафные удары2\"]) [1]\n",
    "\n",
    "if pvalue3 < 0.05:\n",
    "    print(\"H0 отвергается. Математические ожидания неравны.\")\n",
    "else:\n",
    "    print(\"Нет оснований отвергать H0. Математические ожидания равны.\")"
   ]
  },
  {
   "cell_type": "markdown",
   "id": "2d60b3ef",
   "metadata": {},
   "source": [
    "Таким образом, можно сделать вывод, что математическое ожидания фолов команд, для которых матч - домашний, не равно математическому ожиданию штрафных команд, для которых матч - гостевой"
   ]
  }
 ],
 "metadata": {
  "kernelspec": {
   "display_name": "Python 3 (ipykernel)",
   "language": "python",
   "name": "python3"
  },
  "language_info": {
   "codemirror_mode": {
    "name": "ipython",
    "version": 3
   },
   "file_extension": ".py",
   "mimetype": "text/x-python",
   "name": "python",
   "nbconvert_exporter": "python",
   "pygments_lexer": "ipython3",
   "version": "3.9.7"
  }
 },
 "nbformat": 4,
 "nbformat_minor": 5
}
