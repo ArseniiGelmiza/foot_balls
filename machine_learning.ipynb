{
 "cells": [
  {
   "cell_type": "code",
   "execution_count": 13,
   "id": "98c50524",
   "metadata": {},
   "outputs": [],
   "source": [
    "import pandas as pd\n",
    "import numpy as np\n",
    "from sklearn.ensemble import RandomForestClassifier\n",
    "from sklearn.preprocessing import StandardScaler\n",
    "from sklearn.model_selection import train_test_split\n",
    "from sklearn import metrics\n",
    "from sklearn.preprocessing import PolynomialFeatures"
   ]
  },
  {
   "cell_type": "markdown",
   "id": "601bdb06",
   "metadata": {},
   "source": [
    "Для построения модели машинного обучения используем тот же датасет, что мы получили в результате парсинга, но отсортерованный по годам: 2019-2022: "
   ]
  },
  {
   "cell_type": "code",
   "execution_count": 14,
   "id": "e573b333",
   "metadata": {},
   "outputs": [],
   "source": [
    "data = pd.read_csv('football_stat2.csv')"
   ]
  },
  {
   "cell_type": "code",
   "execution_count": 15,
   "id": "91937d2c",
   "metadata": {},
   "outputs": [],
   "source": [
    "data = data.drop(labels = ['Команда1', 'Команда2', 'Голы1', 'Голы2', 'Unnamed: 0'], axis=1)"
   ]
  },
  {
   "cell_type": "code",
   "execution_count": 16,
   "id": "268dbef1",
   "metadata": {},
   "outputs": [],
   "source": [
    "y = data['Результат']"
   ]
  },
  {
   "cell_type": "code",
   "execution_count": 17,
   "id": "7c042ecf",
   "metadata": {},
   "outputs": [],
   "source": [
    "X = data.drop(labels = ['Результат'], axis=1)"
   ]
  },
  {
   "cell_type": "markdown",
   "id": "bf8dcd10",
   "metadata": {},
   "source": [
    "Добавим полиномиальные признаки:"
   ]
  },
  {
   "cell_type": "code",
   "execution_count": 18,
   "id": "3256bb83",
   "metadata": {},
   "outputs": [],
   "source": [
    "pol = PolynomialFeatures(degree=2)\n",
    "X = pol.fit_transform(X)"
   ]
  },
  {
   "cell_type": "markdown",
   "id": "a6d5bd13",
   "metadata": {},
   "source": [
    "Стандартизируем признаки:"
   ]
  },
  {
   "cell_type": "code",
   "execution_count": 19,
   "id": "62ab48fd",
   "metadata": {},
   "outputs": [],
   "source": [
    "scaler = StandardScaler()\n",
    "X = scaler.fit_transform(X)"
   ]
  },
  {
   "cell_type": "markdown",
   "id": "77d9c566",
   "metadata": {},
   "source": [
    "Разделим выборки на тестовую и обучающую:"
   ]
  },
  {
   "cell_type": "code",
   "execution_count": 20,
   "id": "05d07655",
   "metadata": {},
   "outputs": [],
   "source": [
    "X_train, X_test, y_train, y_test = train_test_split(X, y, test_size=0.2, random_state=42)"
   ]
  },
  {
   "cell_type": "markdown",
   "id": "692d9183",
   "metadata": {},
   "source": [
    "Обучим модель, используя RandomForest c количеством деревьев, равным 1000. Получим предсказание результата игры."
   ]
  },
  {
   "cell_type": "code",
   "execution_count": 21,
   "id": "8c29bd00",
   "metadata": {},
   "outputs": [],
   "source": [
    "classifier = RandomForestClassifier(1000)\n",
    "classifier.fit(X_train, y_train)\n",
    "y_pred = classifier.predict(X_test)"
   ]
  },
  {
   "cell_type": "markdown",
   "id": "2374ff8e",
   "metadata": {},
   "source": [
    "Произведем оценку модели: "
   ]
  },
  {
   "cell_type": "code",
   "execution_count": 22,
   "id": "12c72070",
   "metadata": {},
   "outputs": [
    {
     "data": {
      "text/plain": [
       "0.6555023923444976"
      ]
     },
     "execution_count": 22,
     "metadata": {},
     "output_type": "execute_result"
    }
   ],
   "source": [
    "metrics.accuracy_score(y_test, y_pred)"
   ]
  },
  {
   "cell_type": "code",
   "execution_count": 23,
   "id": "60e97d37",
   "metadata": {},
   "outputs": [
    {
     "data": {
      "text/plain": [
       "0.5555707450444292"
      ]
     },
     "execution_count": 23,
     "metadata": {},
     "output_type": "execute_result"
    }
   ],
   "source": [
    "metrics.f1_score(y_test, y_pred, average='macro')"
   ]
  },
  {
   "cell_type": "code",
   "execution_count": null,
   "id": "50fe5a2c",
   "metadata": {},
   "outputs": [],
   "source": []
  }
 ],
 "metadata": {
  "kernelspec": {
   "display_name": "Python 3 (ipykernel)",
   "language": "python",
   "name": "python3"
  },
  "language_info": {
   "codemirror_mode": {
    "name": "ipython",
    "version": 3
   },
   "file_extension": ".py",
   "mimetype": "text/x-python",
   "name": "python",
   "nbconvert_exporter": "python",
   "pygments_lexer": "ipython3",
   "version": "3.9.7"
  }
 },
 "nbformat": 4,
 "nbformat_minor": 5
}
